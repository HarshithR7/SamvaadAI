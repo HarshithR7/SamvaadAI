{
 "cells": [
  {
   "cell_type": "code",
   "execution_count": 1,
   "id": "f8420e18-7ff1-47ed-99f2-a328a91ef005",
   "metadata": {},
   "outputs": [
    {
     "data": {
      "text/plain": [
       "'/mnt/c/Inference'"
      ]
     },
     "execution_count": 1,
     "metadata": {},
     "output_type": "execute_result"
    }
   ],
   "source": [
    "pwd\n"
   ]
  },
  {
   "cell_type": "code",
   "execution_count": 2,
   "id": "ed59c9e5-a561-4302-930e-487580e46038",
   "metadata": {},
   "outputs": [
    {
     "name": "stdout",
     "output_type": "stream",
     "text": [
      "total 4\n",
      "-rwxrwxrwx 1 harsh harsh   72 Jul 10 11:31 \u001b[0m\u001b[01;32mUntitled.ipynb\u001b[0m*\n",
      "-rwxrwxrwx 1 harsh harsh    0 Jul  9 21:21 \u001b[01;32mReadme.md\u001b[0m*\n",
      "-rwxrwxrwx 1 harsh harsh    0 Jul  9 21:21 \u001b[01;32mtest.py\u001b[0m*\n",
      "-rwxrwxrwx 1 harsh harsh   64 Jul  3 08:20 \u001b[01;32mfine-tune.py\u001b[0m*\n",
      "-rwxrwxrwx 1 harsh harsh 1185 Jul  2 22:37 \u001b[01;32mAudio_Transcribe.py\u001b[0m*\n"
     ]
    }
   ],
   "source": [
    "ls -lt"
   ]
  },
  {
   "cell_type": "code",
   "execution_count": null,
   "id": "8d2f767e-825b-43ce-bc8f-81bfcfb6e2c2",
   "metadata": {},
   "outputs": [],
   "source": []
  }
 ],
 "metadata": {
  "kernelspec": {
   "display_name": "Python 3 (ipykernel)",
   "language": "python",
   "name": "python3"
  },
  "language_info": {
   "codemirror_mode": {
    "name": "ipython",
    "version": 3
   },
   "file_extension": ".py",
   "mimetype": "text/x-python",
   "name": "python",
   "nbconvert_exporter": "python",
   "pygments_lexer": "ipython3",
   "version": "3.12.9"
  }
 },
 "nbformat": 4,
 "nbformat_minor": 5
}
